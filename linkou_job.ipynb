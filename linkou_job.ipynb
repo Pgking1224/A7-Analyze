{
 "cells": [
  {
   "cell_type": "code",
   "execution_count": 2,
   "metadata": {},
   "outputs": [],
   "source": [
    "import pandas as pd\n",
    "import requests\n",
    "from io import StringIO\n",
    "import random\n",
    "import time\n",
    "import re\n",
    "import numpy as np\n",
    "import urllib.parse as urllib\n",
    "import urllib.request as urllib2\n",
    "import json\n",
    "import time\n",
    "from bs4 import BeautifulSoup"
   ]
  },
  {
   "cell_type": "code",
   "execution_count": 3,
   "metadata": {},
   "outputs": [],
   "source": [
    "sss = []\n",
    "company_name = []\n",
    "company_add = []\n",
    "job = []\n",
    "ll = []\n",
    "for i in range(2,113):\n",
    "    url = 'https://www.104.com.tw/jobs/search/?ro=0&area=6001002023&order=11&asc=0&page={}&mode=s&jobsource=2018indexpoc'.format(i)\n",
    "    headers = {\n",
    "    'Accept-Encoding': 'gzip, deflate, sdch',\n",
    "    'Accept-Language': 'en-US,en;q=0.8',\n",
    "    'Upgrade-Insecure-Requests': '1',\n",
    "    'User-Agent': 'Mozilla/5.0 (X11; Linux x86_64) AppleWebKit/537.36 (KHTML, like Gecko) Chrome/56.0.2924.87 Safari/537.36',\n",
    "    'Accept': 'text/html,application/xhtml+xml,application/xml;q=0.9,image/webp,*/*;q=0.8',\n",
    "    'Cache-Control': 'max-age=0',\n",
    "    'Connection': 'keep-alive',\n",
    "}\n",
    "    r = requests.get(url, headers=headers,allow_redirects=False)\n",
    "    r.encoding = 'utf-8'\n",
    "    soup = BeautifulSoup(r.text,'html.parser') \n",
    "    time.sleep(1)\n",
    "    \n",
    "    for item in soup.findAll('a'):\n",
    "        try:\n",
    "            if item['title'] != '104家教網':\n",
    "                sss.append(item['title'])              \n",
    "        except:\n",
    "            pass      \n",
    "        \n",
    "    for item in soup.findAll('article'):\n",
    "        try:\n",
    "            if item['data-cust-name'] != '104家教網':\n",
    "                ll.append(item['data-cust-name'])\n",
    "        except:\n",
    "            pass\n",
    "\n",
    "    for item in soup.findAll(attrs={\"class\":\"js-job-link\"}):\n",
    "        if '家教' not in item:\n",
    "            job.append(item.text)\n",
    "             \n",
    "for item in sss:\n",
    "    try:\n",
    "        if '\\n' in item:   \n",
    "            company_name.append(item.split('\\n')[0].split('公司名：')[1])\n",
    "            company_add.append(item.split('\\n')[1].split('公司住址：')[1])\n",
    "    except:\n",
    "        pass\n",
    "# df_job = pd.DataFrame({'company_name':company_name,'company_address':company_add})"
   ]
  },
  {
   "cell_type": "code",
   "execution_count": 4,
   "metadata": {},
   "outputs": [
    {
     "data": {
      "text/plain": [
       "2209"
      ]
     },
     "execution_count": 4,
     "metadata": {},
     "output_type": "execute_result"
    }
   ],
   "source": [
    "len(job)"
   ]
  },
  {
   "cell_type": "code",
   "execution_count": 7,
   "metadata": {},
   "outputs": [
    {
     "data": {
      "text/plain": [
       "2177"
      ]
     },
     "execution_count": 7,
     "metadata": {},
     "output_type": "execute_result"
    }
   ],
   "source": [
    "len(ll)"
   ]
  },
  {
   "cell_type": "code",
   "execution_count": 5,
   "metadata": {},
   "outputs": [
    {
     "data": {
      "text/plain": [
       "2177"
      ]
     },
     "execution_count": 5,
     "metadata": {},
     "output_type": "execute_result"
    }
   ],
   "source": [
    "len(company_name)"
   ]
  },
  {
   "cell_type": "code",
   "execution_count": 6,
   "metadata": {},
   "outputs": [
    {
     "data": {
      "text/plain": [
       "2177"
      ]
     },
     "execution_count": 6,
     "metadata": {},
     "output_type": "execute_result"
    }
   ],
   "source": [
    "len(company_add)"
   ]
  },
  {
   "cell_type": "code",
   "execution_count": 10,
   "metadata": {},
   "outputs": [
    {
     "name": "stdout",
     "output_type": "stream",
     "text": [
      "【家教】英文-社會人士\n",
      "【家教】英文寫作-國中三年級\n",
      "【家教】兒童邏輯創造力訓練-學齡前兒童\n",
      "【家教】伴讀-國小三年級\n",
      "【家教】日文-社會人士\n",
      "【家教】英文-社會人士\n",
      "【家教】英文寫作-國中二年級\n",
      "【家教】英文-社會人士\n",
      "【家教】數學/自然科學/英文-國小二年級\n",
      "【家教】伴讀-國小二年級\n",
      "【家教】Office系列-社會人士\n",
      "【家教】鋼琴-國中一年級\n",
      "【家教】伴讀/英文-高中一年級\n",
      "【家教】小提琴-國小四年級\n",
      "【家教】國文(語)/數學/英文-國小二年級\n",
      "【家教】英文-國中三年級\n",
      "【家教】數學-國中三年級\n",
      "【家教】日文-學齡前兒童\n",
      "【家教】英文-學齡前兒童\n",
      "【家教】自然科學-學齡前兒童\n",
      "【家教】桌球-學齡前兒童\n",
      "【家教】圍棋-學齡前兒童\n",
      "【家教】兒童邏輯創造力訓練-學齡前兒童\n",
      "【家教】英文-國小二年級\n",
      "【家教】英文-高中一年級\n",
      "【家教】數學-國中一年級\n",
      "【家教】英文寫作-高中二年級\n",
      "【家教】日文-大專生以上\n",
      "【家教】生物-高中一年級\n",
      "【家教】生物-高中一年級\n",
      "【家教】伴讀/英文-國小三年級\n",
      "【家教】英文/法文-國小四年級\n"
     ]
    }
   ],
   "source": [
    "for item in job:\n",
    "    if '家教'  in item:\n",
    "        print(item)\n"
   ]
  },
  {
   "cell_type": "code",
   "execution_count": 9,
   "metadata": {},
   "outputs": [
    {
     "data": {
      "text/plain": [
       "2177"
      ]
     },
     "execution_count": 9,
     "metadata": {},
     "output_type": "execute_result"
    }
   ],
   "source": [
    "len(ks)"
   ]
  },
  {
   "cell_type": "code",
   "execution_count": 11,
   "metadata": {},
   "outputs": [],
   "source": [
    "df_job = pd.DataFrame({'job':ks,'company':company_name,'address':company_add})"
   ]
  },
  {
   "cell_type": "code",
   "execution_count": 12,
   "metadata": {},
   "outputs": [],
   "source": [
    "df_job.to_csv('C:\\\\Users\\\\Double 8\\\\A7_data\\\\job.csv',index=False,encoding='utf-8_sig')"
   ]
  },
  {
   "cell_type": "code",
   "execution_count": null,
   "metadata": {},
   "outputs": [],
   "source": []
  }
 ],
 "metadata": {
  "kernelspec": {
   "display_name": "Python 3",
   "language": "python",
   "name": "python3"
  },
  "language_info": {
   "codemirror_mode": {
    "name": "ipython",
    "version": 3
   },
   "file_extension": ".py",
   "mimetype": "text/x-python",
   "name": "python",
   "nbconvert_exporter": "python",
   "pygments_lexer": "ipython3",
   "version": "3.7.1"
  }
 },
 "nbformat": 4,
 "nbformat_minor": 2
}
