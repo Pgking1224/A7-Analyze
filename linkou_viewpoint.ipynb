{
 "cells": [
  {
   "cell_type": "code",
   "execution_count": 1,
   "metadata": {},
   "outputs": [],
   "source": [
    "import pandas as pd\n",
    "import requests\n",
    "from io import StringIO\n",
    "import random\n",
    "import time\n",
    "import re\n",
    "import numpy as np\n",
    "import urllib.parse as urllib\n",
    "import urllib.request as urllib2\n",
    "import json\n",
    "import time\n",
    "from bs4 import BeautifulSoup"
   ]
  },
  {
   "cell_type": "code",
   "execution_count": 2,
   "metadata": {},
   "outputs": [
    {
     "name": "stdout",
     "output_type": "stream",
     "text": [
      "吳福洋襪子故事館\n",
      "竹林山觀音寺\n",
      "八里林口水牛坑\n",
      "林口竹林觀音寺\n",
      "光淙金工藝術館(Jewelry Museum Taiwan)\n",
      "觀音寺\n",
      "林口運動公園\n",
      "林口東湖公園\n",
      "太平濱海步道\n",
      "Plus Sega虛擬親子互動樂園\n",
      "林口森林步道\n",
      "寶貝之星\n",
      "林口圖書館東勢閱覽室\n",
      "林口老街\n",
      "下福里市民活動中心\n",
      "樂活公園\n",
      "林口油桐花地毯\n",
      "林口發電廠\n",
      "老公崎步道\n",
      "林口夜市\n",
      "洪福宮\n",
      "林口扶輪公園\n",
      "吉卜力專賣店 MITSUI OUTLET PARK(期間限定店)\n",
      "麗莎和卡斯柏 Gaspard et Lisa Mitsui Outlet Park 林口\n",
      "光淙金工藝術館\n",
      "林口公鄰23公園(小熊公園)\n",
      "亞太生態園區\n",
      "麗林國小\n",
      "林口頂福靶場\n",
      "林口文林公園\n"
     ]
    }
   ],
   "source": [
    "viewpoint = []\n",
    "viewpoint_add = []\n",
    "for i in range(1,3):\n",
    "    url = 'https://www.ipeen.com.tw/search/all/000/4-7-0-0/?p={}&adkw=%E6%9E%97%E5%8F%A3'.format(i)\n",
    "    headers = {'User-Agent': 'Mozilla/5.0 (Macintosh; Intel Mac OS X 10_10_1) AppleWebKit/537.36 (KHTML, like Gecko) Chrome/39.0.2171.95 Safari/537.36'}\n",
    "    r = requests.get(url, headers)\n",
    "    r.encoding = 'utf-8'\n",
    "    soup = BeautifulSoup(r.text,'html.parser')    \n",
    "    for i in soup.findAll('a','a37 ga_tracking'):\n",
    "        if i['data-label'] == '店名':\n",
    "            viewpoint.append(i.text)\n",
    "            print(i.text)\n",
    "    for i in soup.findAll('span','address'):\n",
    "        viewpoint_add.append(i.text.split('\\n')[0])"
   ]
  },
  {
   "cell_type": "code",
   "execution_count": 3,
   "metadata": {},
   "outputs": [
    {
     "data": {
      "text/plain": [
       "30"
      ]
     },
     "execution_count": 3,
     "metadata": {},
     "output_type": "execute_result"
    }
   ],
   "source": [
    "len(viewpoint)"
   ]
  },
  {
   "cell_type": "code",
   "execution_count": 4,
   "metadata": {},
   "outputs": [
    {
     "data": {
      "text/plain": [
       "30"
      ]
     },
     "execution_count": 4,
     "metadata": {},
     "output_type": "execute_result"
    }
   ],
   "source": [
    "len(viewpoint_add)"
   ]
  },
  {
   "cell_type": "code",
   "execution_count": 5,
   "metadata": {},
   "outputs": [],
   "source": [
    "df_viewpoint = pd.DataFrame({'viewpoint':viewpoint,'address':viewpoint_add})"
   ]
  },
  {
   "cell_type": "code",
   "execution_count": 6,
   "metadata": {},
   "outputs": [],
   "source": [
    "df_viewpoint.to_csv('C:\\\\Users\\\\Double 8\\\\A7_data\\\\linkou_viewpoint.csv',index=False)"
   ]
  },
  {
   "cell_type": "code",
   "execution_count": null,
   "metadata": {},
   "outputs": [],
   "source": []
  }
 ],
 "metadata": {
  "kernelspec": {
   "display_name": "Python 3",
   "language": "python",
   "name": "python3"
  },
  "language_info": {
   "codemirror_mode": {
    "name": "ipython",
    "version": 3
   },
   "file_extension": ".py",
   "mimetype": "text/x-python",
   "name": "python",
   "nbconvert_exporter": "python",
   "pygments_lexer": "ipython3",
   "version": "3.7.1"
  }
 },
 "nbformat": 4,
 "nbformat_minor": 2
}
