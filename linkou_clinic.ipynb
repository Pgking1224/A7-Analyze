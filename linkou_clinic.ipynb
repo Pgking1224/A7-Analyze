{
 "cells": [
  {
   "cell_type": "code",
   "execution_count": 1,
   "metadata": {},
   "outputs": [],
   "source": [
    "import pandas as pd\n",
    "import requests\n",
    "from io import StringIO\n",
    "import random\n",
    "import time\n",
    "import re\n",
    "import numpy as np\n",
    "import urllib.parse as urllib\n",
    "import urllib.request as urllib2\n",
    "import json\n",
    "import time\n",
    "from bs4 import BeautifulSoup"
   ]
  },
  {
   "cell_type": "code",
   "execution_count": 2,
   "metadata": {},
   "outputs": [
    {
     "name": "stdout",
     "output_type": "stream",
     "text": [
      "萊德美學牙醫診所RDC\n",
      "何文藻皮膚科診所\n",
      "林口(長庚) 侯志龍成人內科/小兒專科診所\n",
      "明揚診所\n",
      "松山周集祥診所\n",
      "超群牙醫診所\n",
      "麗園動物醫院\n",
      "麗林牙醫診所\n",
      "廖宰洲牙醫診所\n",
      "林安牙醫診所\n",
      "天翔牙醫診所\n",
      "林動物醫院\n",
      "全德中醫診所\n",
      "順風整形醫美診所(林口旗艦店)\n",
      "澄明牙醫診所\n",
      "坤冉牙醫診所\n",
      "捷仁診所\n",
      "日祥動物醫院\n",
      "林口助產所\n",
      "仲全診所\n",
      "恆安中醫診所\n",
      "尤耳鼻喉科診所\n",
      "文禾骨科診所\n",
      "吉隆牙醫診所\n",
      "國寶堂中醫診所\n",
      "佳眼科診所\n",
      "寶護動物醫院\n",
      "麗園牙醫診所\n",
      "蔡榮鏡中醫診所\n",
      "太僕動物醫院(林口店)\n",
      "全英眼科診所\n",
      "吉祥中醫診所\n",
      "麗園動物醫院\n",
      "西河內科小兒科診所\n",
      "林口周牙醫診所\n"
     ]
    }
   ],
   "source": [
    "s = []\n",
    "clinic = []\n",
    "clinic_add = []\n",
    "for i in range(1,5):\n",
    "    url = 'https://www.ipeen.com.tw/search/all/000/0-100-0-0/%E8%A8%BA%E6%89%80/?p={}&adkw=%E6%9E%97%E5%8F%A3'.format(i)\n",
    "    headers = {'User-Agent': 'Mozilla/5.0 (Macintosh; Intel Mac OS X 10_10_1) AppleWebKit/537.36 (KHTML, like Gecko) Chrome/39.0.2171.95 Safari/537.36'}\n",
    "    r = requests.get(url, headers)\n",
    "    r.encoding = 'utf-8'\n",
    "    soup = BeautifulSoup(r.text,'html.parser')    \n",
    "    for i in soup.findAll('a','a37 ga_tracking'):\n",
    "        if i['data-label'] == '店名':\n",
    "            clinic.append(i.text)\n",
    "            print(i.text)\n",
    "    for i in soup.findAll('span','address'):\n",
    "        clinic_add.append(i.text.split('\\n')[0])"
   ]
  },
  {
   "cell_type": "code",
   "execution_count": 3,
   "metadata": {},
   "outputs": [
    {
     "data": {
      "text/plain": [
       "35"
      ]
     },
     "execution_count": 3,
     "metadata": {},
     "output_type": "execute_result"
    }
   ],
   "source": [
    "len(clinic)"
   ]
  },
  {
   "cell_type": "code",
   "execution_count": 4,
   "metadata": {},
   "outputs": [
    {
     "data": {
      "text/plain": [
       "35"
      ]
     },
     "execution_count": 4,
     "metadata": {},
     "output_type": "execute_result"
    }
   ],
   "source": [
    "len(clinic_add)"
   ]
  },
  {
   "cell_type": "code",
   "execution_count": 5,
   "metadata": {},
   "outputs": [],
   "source": [
    "df_clinic = pd.DataFrame({'clinic':clinic,'address':clinic_add})"
   ]
  },
  {
   "cell_type": "code",
   "execution_count": 7,
   "metadata": {},
   "outputs": [],
   "source": [
    "df_clinic.to_csv('C:\\\\Users\\\\Double 8\\\\A7_data\\\\linkou_clinic.csv',index=False)"
   ]
  },
  {
   "cell_type": "code",
   "execution_count": null,
   "metadata": {},
   "outputs": [],
   "source": []
  }
 ],
 "metadata": {
  "kernelspec": {
   "display_name": "Python 3",
   "language": "python",
   "name": "python3"
  },
  "language_info": {
   "codemirror_mode": {
    "name": "ipython",
    "version": 3
   },
   "file_extension": ".py",
   "mimetype": "text/x-python",
   "name": "python",
   "nbconvert_exporter": "python",
   "pygments_lexer": "ipython3",
   "version": "3.7.1"
  }
 },
 "nbformat": 4,
 "nbformat_minor": 2
}
